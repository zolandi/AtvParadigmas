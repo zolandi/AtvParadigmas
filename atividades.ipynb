{
  "nbformat": 4,
  "nbformat_minor": 0,
  "metadata": {
    "colab": {
      "provenance": []
    },
    "kernelspec": {
      "name": "python3",
      "display_name": "Python 3"
    },
    "language_info": {
      "name": "python"
    }
  },
  "cells": [
    {
      "cell_type": "markdown",
      "source": [
        "**1. Cálculo Média de Duas Notas**\n"
      ],
      "metadata": {
        "id": "dhoaBT61NIdO"
      }
    },
    {
      "cell_type": "code",
      "source": [
        "def med(n1,n2):\n",
        "  med = (n1+n2)/2\n",
        "  print(\"A média final é: \", med)\n",
        "\n",
        "n1 = int(input(\"Informe a nota 1: \"))\n",
        "n2 = int(input(\"Informe a nota 2: \"))\n",
        "\n",
        "med(n1,n2)"
      ],
      "metadata": {
        "colab": {
          "base_uri": "https://localhost:8080/"
        },
        "id": "fmjmpH6tNMy1",
        "outputId": "7d330e12-bc92-4e27-f531-0f4f6a96200d"
      },
      "execution_count": null,
      "outputs": [
        {
          "output_type": "stream",
          "name": "stdout",
          "text": [
            "Informe nota 1: 2\n",
            "Informe nota 2: 3\n",
            "med final é:  2.5\n"
          ]
        }
      ]
    },
    {
      "cell_type": "markdown",
      "source": [
        "**2. Cálculo Desconto em Valor com Percentual**"
      ],
      "metadata": {
        "id": "UIyBgt1UR3j8"
      }
    },
    {
      "cell_type": "code",
      "source": [
        "def desconto(valor, perc):\n",
        "  desconto = valor - (valor * perc)\n",
        "  percentual = perc * 100\n",
        "\n",
        "  print (\"Valor atual é: R$\", valor)\n",
        "  print (\"Valor do percentual é: \",percentual,\"%\")\n",
        "  print (\"Valor final é: R$\",desconto)\n",
        "\n",
        "desconto(250, 0.9)"
      ],
      "metadata": {
        "colab": {
          "base_uri": "https://localhost:8080/"
        },
        "id": "lyDL_eMVR86j",
        "outputId": "84447881-82bc-40c6-ed0c-9a5cb427dbff"
      },
      "execution_count": null,
      "outputs": [
        {
          "output_type": "stream",
          "name": "stdout",
          "text": [
            "valor atual é: R$ 250\n",
            "valor do percentual é:  90.0 %\n",
            "valor final é: R$ 25.0\n"
          ]
        }
      ]
    },
    {
      "cell_type": "markdown",
      "source": [
        "**3. Calculo Dias Perdidos de Um Fumante**"
      ],
      "metadata": {
        "id": "uf8d3DY_VOEb"
      }
    },
    {
      "cell_type": "code",
      "source": [
        "def percaDias(qtdCigarro, qtdAnos):\n",
        "  qtdDias = qtdAnos * 365\n",
        "  percaMinutos = (qtdCigarro * 10)\n",
        "  minutoHora = percaMinutos / 60\n",
        "  horaDias = minutoHora / 24\n",
        "  percaDias = horaDias * qtdDias\n",
        "\n",
        "  print(\"Ele perdeu essa quantidade de dias: \", percaDias)\n",
        "\n",
        "qtdCigarro = int(input(\"Quantos cigarros você fuma por dia?: \"))\n",
        "qtdAnos = int(input(\"Quantos anos você fuma?: \"))\n",
        "\n",
        "percaDias(qtdCigarro, qtdAnos)"
      ],
      "metadata": {
        "colab": {
          "base_uri": "https://localhost:8080/"
        },
        "id": "hzKu9UHyVXZM",
        "outputId": "d159dc07-c3e8-4563-dbce-fe249efa4e0e"
      },
      "execution_count": null,
      "outputs": [
        {
          "output_type": "stream",
          "name": "stdout",
          "text": [
            "quantos cigarros vc fuma por dia?: 1200\n",
            "quantos anos vc fuma?: 5\n",
            "Ele perdeu essa qtd de dias:  15208.333333333334\n"
          ]
        }
      ]
    },
    {
      "cell_type": "markdown",
      "source": [
        "**4. Máquina Registradora**"
      ],
      "metadata": {
        "id": "_cExRvdQXtvg"
      }
    },
    {
      "cell_type": "code",
      "source": [
        "preco = 0\n",
        "while True:\n",
        "\n",
        "  escolha = int(input(\"Escolha um número na nossa tabela de preços: \\n 1 == R$0,50 \\n 2 == R$1,00 \\n 3 == R$4,00 \\n 5 == R$7,00 \\n 9 == R$8,00 \\n 0 == Sair \\nEscolha aqui: \"))\n",
        "  quantidade = int (input(\"Escolha a quantidade: \"))\n",
        "  print(\"\\n\\n\")\n",
        "\n",
        "  if escolha == 0:\n",
        "    break\n",
        "  elif escolha == 1:\n",
        "    preco = preco + 0.5\n",
        "    preco = preco * quantidade\n",
        "  elif escolha == 2:\n",
        "    preco = preco + 1\n",
        "    preco = preco * quantidade\n",
        "  elif escolha == 3:\n",
        "    preco = preco + 4\n",
        "    preco = preco * quantidade\n",
        "  elif escolha == 5:\n",
        "    preco = preco + 7\n",
        "    preco = preco * quantidade\n",
        "  elif escolha == 9:\n",
        "    preco = preco + 8\n",
        "    preco = preco * quantidade\n",
        "  else:\n",
        "    print(\"Inválido!\")\n",
        "\n",
        "print(\"O valor total da compra foi: R$\",preco)"
      ],
      "metadata": {
        "id": "WViS4HweXxHw"
      },
      "execution_count": null,
      "outputs": []
    },
    {
      "cell_type": "markdown",
      "source": [
        "**4.1 - Máquina Registradora (Java)**\n",
        "\n",
        "\n",
        "\n",
        "```\n",
        "# import java.util.Scanner;\n",
        "\n",
        "public class Main {\n",
        "    public static void main(String[] args)\n",
        "    {\n",
        "        Scanner teclado = new Scanner(System.in);\n",
        "        int escolha = 1;\n",
        "        double preco = 0;\n",
        "        int quantidade;\n",
        "\n",
        "        while (escolha != 0){\n",
        "            System.out.println(\"Escolha um número na nossa tabela de preços: \\n 1 == R$0,50 \\n 2 == R$1,00 \\n 3 == R$4,00 \\n 5 == R$7,00 \\n 9 == R$8,00 \\n 0 == Sair \\nEscolha aqui: \");\n",
        "            escolha = teclado.nextInt();\n",
        "            switch (escolha){\n",
        "                case 0:\n",
        "                    break;\n",
        "                case 1:\n",
        "                    preco = preco + 0.5;\n",
        "                    break;\n",
        "                case 2:\n",
        "                    preco = preco + 1;\n",
        "                    break;\n",
        "                case 3:\n",
        "                    preco = preco + 4;\n",
        "                    break;\n",
        "                case 5:\n",
        "                    preco = preco + 7;\n",
        "                    break;\n",
        "                case 9:\n",
        "                    preco = preco + 8;\n",
        "                    break;\n",
        "                default:\n",
        "                    System.out.println(\"Inválido\");\n",
        "                    break;\n",
        "            }\n",
        "            if (escolha != 0){\n",
        "                System.out.println(\"Digite a quantidade: \");\n",
        "                quantidade = teclado.nextInt();\n",
        "                preco = preco * quantidade;\n",
        "            }\n",
        "        }\n",
        "\n",
        "        System.out.println(\"O valor total da compra foi: R$\"+preco);\n",
        "\n",
        "        teclado.close();\n",
        "    }\n",
        "}\n",
        "```\n",
        "\n"
      ],
      "metadata": {
        "id": "hTPfNgfJld9C"
      }
    },
    {
      "cell_type": "markdown",
      "source": [
        "**4.2 - Máquina Registradora (Go)**\n",
        "\n",
        "\n",
        "\n",
        "```\n",
        "# package main\n",
        "\n",
        "import (\n",
        "\t\"fmt\"\n",
        ")\n",
        "\n",
        "func main() {\n",
        "\tescolha := 1\n",
        "\tpreco := 0.0\n",
        "\tquantidade := 0\n",
        "\n",
        "\tfor escolha != 0 {\n",
        "\t\tfmt.Println(\"Escolha um número na nossa tabela de preços:\")\n",
        "\t\tfmt.Println(\"1 == R$0,50\")\n",
        "\t\tfmt.Println(\"2 == R$1,00\")\n",
        "\t\tfmt.Println(\"3 == R$4,00\")\n",
        "\t\tfmt.Println(\"5 == R$7,00\")\n",
        "\t\tfmt.Println(\"9 == R$8,00\")\n",
        "\t\tfmt.Println(\"0 == Sair\")\n",
        "\t\tfmt.Print(\"Escolha aqui: \")\n",
        "\t\tfmt.Scan(&escolha)\n",
        "\n",
        "\t\tswitch escolha {\n",
        "\t\tcase 0:\n",
        "\t\t\tbreak\n",
        "\t\tcase 1:\n",
        "\t\t\tpreco += 0.50\n",
        "\t\tcase 2:\n",
        "\t\t\tpreco += 1.00\n",
        "\t\tcase 3:\n",
        "\t\t\tpreco += 4.00\n",
        "\t\tcase 5:\n",
        "\t\t\tpreco += 7.00\n",
        "\t\tcase 9:\n",
        "\t\t\tpreco += 8.00\n",
        "\t\tdefault:\n",
        "\t\t\tfmt.Println(\"Opção inválida\")\n",
        "\t\t\tcontinue\n",
        "\t\t}\n",
        "\n",
        "\t\tif escolha != 0 {\n",
        "\t\t\tfmt.Print(\"Digite a quantidade: \")\n",
        "\t\t\tfmt.Scan(&quantidade)\n",
        "\t\t\tpreco *= float64(quantidade)\n",
        "\t\t}\n",
        "\t}\n",
        "\n",
        "\tfmt.Printf(\"O valor total da compra foi: R$%.2f\\n\", preco)\n",
        "}\n",
        "```\n",
        "\n"
      ],
      "metadata": {
        "id": "nkM8Y-4MpDOu"
      }
    },
    {
      "cell_type": "markdown",
      "source": [
        "**5 - Soma de Elementos em Posições do Vetor**"
      ],
      "metadata": {
        "id": "kZ6lb_5Dd09m"
      }
    },
    {
      "cell_type": "code",
      "source": [
        "vetor = [0] * 8\n",
        "\n",
        "for i in range(8):\n",
        "  vetor[i] = int(input(\"Digite um número: \"))\n",
        "\n",
        "x = int(input(\"Digite uma posição no vetor acima: \"))\n",
        "y = int(input(\"Digite uma posição no vetor acima: \"))\n",
        "\n",
        "soma = vetor[x] + vetor[y]\n",
        "\n",
        "print(\"O resultado da operação 'X + Y' é: \",soma)"
      ],
      "metadata": {
        "colab": {
          "base_uri": "https://localhost:8080/"
        },
        "id": "qcFKPwzKd_cG",
        "outputId": "2362a2b1-8a42-4b63-e788-ae55433a99fd"
      },
      "execution_count": null,
      "outputs": [
        {
          "output_type": "stream",
          "name": "stdout",
          "text": [
            "Digite um número: 1\n",
            "Digite um número: 2\n",
            "Digite um número: 3\n",
            "Digite um número: 4\n",
            "digite uma posição no vetor acima: 2\n",
            "digite uma posição no vetor acima: 3\n",
            "A soma de x e y é:  7\n"
          ]
        }
      ]
    },
    {
      "cell_type": "markdown",
      "source": [
        "**6 - Análise de Vetor e Cálculo Estatístico**"
      ],
      "metadata": {
        "id": "zkAJXRmGjls9"
      }
    },
    {
      "cell_type": "code",
      "source": [
        "vetor = []\n",
        "\n",
        "for i in range(3):\n",
        "  vetor.append(int(input(\"Digite o elemento %d: \"% i)))\n",
        "\n",
        "maior = vetor[0]\n",
        "menor = vetor[0]\n",
        "soma = vetor[0]\n",
        "media = 0\n",
        "acimaCinco = 0\n",
        "\n",
        "for i in range(1, len(vetor)):\n",
        "  if vetor[i] > maior:\n",
        "    maior = vetor[i]\n",
        "  elif vetor[i] < menor:\n",
        "    menor = vetor[i]\n",
        "\n",
        "  soma += vetor[i]\n",
        "\n",
        "  if vetor[i] > 5:\n",
        "    acimaCinco = acimaCinco + 1\n",
        "\n",
        "media = soma / len(vetor)\n",
        "\n",
        "print(\"O maior valor é: \",maior)\n",
        "print(\"O menor valor é: \",menor)\n",
        "print(\"A soma de todos é: \",soma)\n",
        "print(\"A média é: \",media)\n",
        "print(\"Tem %d número(s) acima de 5\"%acimaCinco)"
      ],
      "metadata": {
        "colab": {
          "base_uri": "https://localhost:8080/"
        },
        "id": "nIGR8r3LjrHl",
        "outputId": "5cb9f0e9-f355-4035-c74b-075c15c8b3ae"
      },
      "execution_count": null,
      "outputs": [
        {
          "output_type": "stream",
          "name": "stdout",
          "text": [
            "Digite o elemento 0: 4\n",
            "Digite o elemento 1: 6\n",
            "Digite o elemento 2: 8\n",
            "O maior valor é:  8\n",
            "O menor valor é:  4\n",
            "A soma de todos é:  18\n",
            "A média é:  6.0\n",
            "Tem 2 número(s) acima de 5\n"
          ]
        }
      ]
    }
  ]
}